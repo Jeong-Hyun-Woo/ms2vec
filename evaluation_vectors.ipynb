{
 "cells": [
  {
   "cell_type": "code",
   "execution_count": 1,
   "metadata": {
    "collapsed": true
   },
   "outputs": [],
   "source": [
    "import numpy as np\n",
    "data_path = \"vec.txt\"\n",
    "\n",
    "def load_model(data_path, binary=0):\n",
    "    model = {}\n",
    "    word_list = []\n",
    "    with open(data_path, \"r\") as f:\n",
    "        vocab_size, max_sense, vector_size = f.readline().split()\n",
    "        for i in f:\n",
    "            data = i.split()\n",
    "            word = data[0].split(\"--\")[0]\n",
    "            vector = np.asarray(data[1:], dtype=np.double)\n",
    "            if word not in word_list:\n",
    "                model[word] = vector\n",
    "                word_list.append(word)\n",
    "            else:\n",
    "                model[word] = np.vstack((model[word], vector))\n",
    "    return model"
   ]
  },
  {
   "cell_type": "code",
   "execution_count": 2,
   "metadata": {
    "collapsed": true
   },
   "outputs": [],
   "source": [
    "model = load_model(data_path)"
   ]
  },
  {
   "cell_type": "code",
   "execution_count": null,
   "metadata": {
    "collapsed": true
   },
   "outputs": [],
   "source": []
  }
 ],
 "metadata": {
  "anaconda-cloud": {},
  "kernelspec": {
   "display_name": "Python [Root]",
   "language": "python",
   "name": "Python [Root]"
  },
  "language_info": {
   "codemirror_mode": {
    "name": "ipython",
    "version": 3
   },
   "file_extension": ".py",
   "mimetype": "text/x-python",
   "name": "python",
   "nbconvert_exporter": "python",
   "pygments_lexer": "ipython3",
   "version": "3.5.2"
  }
 },
 "nbformat": 4,
 "nbformat_minor": 0
}
